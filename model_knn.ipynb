{
 "cells": [
  {
   "cell_type": "code",
   "execution_count": 1,
   "metadata": {},
   "outputs": [
    {
     "name": "stdout",
     "output_type": "stream",
     "text": [
      "Importing Jupyter notebook from kaggle_dataset.ipynb\n",
      "Importing Jupyter notebook from pre_processing.ipynb\n"
     ]
    }
   ],
   "source": [
    "import nbimporter\n",
    "import numpy as np\n",
    "import pandas as pd\n",
    "import os\n",
    "import matplotlib.pyplot as plt\n",
    "from sklearn.neighbors import KNeighborsClassifier\n",
    "from sklearn.model_selection import LeaveOneOut\n",
    "from sklearn import metrics\n",
    "from kaggle_dataset import read\n",
    "from pre_processing import get_class_positive, get_lenght_class_positive, adjusts_the_unbalance, normalize_dataframe"
   ]
  },
  {
   "cell_type": "code",
   "execution_count": 2,
   "metadata": {},
   "outputs": [],
   "source": [
    "# INFO: READ DATASET\n",
    "# -- leitura dos dados originais"
   ]
  },
  {
   "cell_type": "code",
   "execution_count": 3,
   "metadata": {},
   "outputs": [],
   "source": [
    "dataframe_credit_card_fraud = read(\"dataset/creditcard.csv\")"
   ]
  },
  {
   "cell_type": "code",
   "execution_count": 4,
   "metadata": {},
   "outputs": [],
   "source": [
    "# INFO: TRAINING MODEL (KNN AND LEAVE_ONE_OUT)\n",
    "# -- visto que ficaram poucos registro (haviam poucos da classe positiva)\n",
    "# -- assim foi utilizado o metodo leave-one-out para validar os modelos\n",
    "# -- garantindo que cada registro aparece pelo menos uma vez no treino e teste"
   ]
  },
  {
   "cell_type": "code",
   "execution_count": 5,
   "metadata": {},
   "outputs": [],
   "source": [
    "def training_with_leave_one_out(execution, k_range, data, target):\n",
    "    scores_accuracy = {}\n",
    "    scores_f1_score = {}\n",
    "    confusion_matrix_values = {}  \n",
    "    for k in k_range:\n",
    "        loo = LeaveOneOut()\n",
    "        targets_test = []\n",
    "        targets_predict = [] \n",
    "        target_test_index = 0\n",
    "\n",
    "        for train_index, test_index in loo.split(data):\n",
    "            data_train, data_test = data.loc[train_index], data.loc[test_index]\n",
    "            target_train, target_test = target.loc[train_index], target.loc[test_index]\n",
    "            knn = KNeighborsClassifier(n_neighbors=k)\n",
    "            knn.fit(data_train, target_train)\n",
    "            target_predict = knn.predict(data_test)\n",
    "            \n",
    "            targets_test.append(target_test[target_test_index])\n",
    "            targets_predict.append(target_predict[0])\n",
    "            \n",
    "            target_test_index += 1\n",
    "        \n",
    "        scores_accuracy[k] = metrics.accuracy_score(targets_test, targets_predict)\n",
    "        scores_f1_score[k] = metrics.f1_score(targets_test, targets_predict)\n",
    "        \n",
    "        if not os.path.exists(\"result/predicts/\"):\n",
    "            os.makedirs(\"result/predicts/\")\n",
    "        \n",
    "        pd.DataFrame(targets_test, targets_predict).to_csv(\"result/predicts/predicts_ex_\" + str(execution) + \"_k_\" + str(k) + \"_.csv\", sep=',', encoding='utf-8')\n",
    "        \n",
    "        confusion_matrix_values[k] = targets_test, targets_predict\n",
    "    \n",
    "    if not os.path.exists(\"result/metrics/\"):\n",
    "        os.makedirs(\"result/metrics/\")\n",
    "        \n",
    "    pd.DataFrame(list(scores_accuracy.items())).to_csv(\"result/metrics/accuracy_ex_\" + str(execution) + \"_.csv\", sep=',', encoding='utf-8')\n",
    "    pd.DataFrame(list(scores_f1_score.items())).to_csv(\"result/metrics/f1_score_ex_\" + str(execution) + \"_.csv\", sep=',', encoding='utf-8')\n",
    "\n",
    "    return scores_accuracy, scores_f1_score, confusion_matrix_values"
   ]
  },
  {
   "cell_type": "code",
   "execution_count": 6,
   "metadata": {},
   "outputs": [],
   "source": [
    "# -- definindo o range do parametro k do algoritmo knn\n",
    "# -- preparando o dataset balanceado e normalizado\n",
    "# -- executando o range de k 10 vezes pegando variações aleatorias ao fazer o balanceamento dos dados\n",
    "# -- fazendo a media das metricas de avaliação (acurácia e f1-score) nas 10 execuções"
   ]
  },
  {
   "cell_type": "code",
   "execution_count": 7,
   "metadata": {},
   "outputs": [],
   "source": [
    "k_range = range(1, 50, 2)\n",
    "\n",
    "scores_accuracy = {}\n",
    "scores_f1_score = {}\n",
    "\n",
    "execution_number = 10\n",
    "\n",
    "for execution in range(execution_number):\n",
    "    dataframe_class_positive = get_class_positive(dataframe_credit_card_fraud)\n",
    "    lenght_class_positive = get_lenght_class_positive(dataframe_class_positive)\n",
    "    \n",
    "    dataframe_balanced = adjusts_the_unbalance(lenght_class_positive, dataframe_class_positive, dataframe_credit_card_fraud)\n",
    "    dataframe_normalize = normalize_dataframe(dataframe_balanced)\n",
    "    \n",
    "    if not os.path.exists(\"dataset/\"):\n",
    "            os.makedirs(\"dataset/\")\n",
    "    \n",
    "    dataframe_normalize.to_csv(\"dataset/creditcard_balanced_normalize_\" + str(execution) + \".csv\", sep=',', encoding='utf-8')\n",
    "    dataframe_normalize = read(\"dataset/creditcard_balanced_normalize_\" + str(execution) + \".csv\")\n",
    "    \n",
    "    data = dataframe_normalize.iloc[:, 2:29]\n",
    "    target = dataframe_normalize[\"Class\"]\n",
    "\n",
    "    accuracy, f1_score, confusion_matrix_values = training_with_leave_one_out(execution, k_range, data, target)\n",
    "    \n",
    "    for k in k_range:\n",
    "        if (k in scores_accuracy):\n",
    "            scores_accuracy[k] = float(scores_accuracy[k]) + float(accuracy[k])\n",
    "            scores_f1_score[k] = float(scores_f1_score[k]) + float(f1_score[k])\n",
    "        else:\n",
    "            scores_accuracy[k] = float(accuracy[k])\n",
    "            scores_f1_score[k] = float(f1_score[k])\n",
    "    \n",
    "for k in k_range:\n",
    "    scores_accuracy[k] = scores_accuracy[k]/execution_number\n",
    "    scores_f1_score[k] = scores_f1_score[k]/execution_number"
   ]
  },
  {
   "cell_type": "code",
   "execution_count": 8,
   "metadata": {},
   "outputs": [],
   "source": [
    "# INFO: SCORE GRAPHIC\n",
    "# -- funçào para plotar o score de cada parâmetro k do algoritmo"
   ]
  },
  {
   "cell_type": "code",
   "execution_count": 9,
   "metadata": {},
   "outputs": [],
   "source": [
    "def score_graphic(x, y, y_label):\n",
    "    plt.plot(x, y)\n",
    "    plt.xlabel(\"Value of k for KNN\")\n",
    "    plt.ylabel(y_label)\n",
    "    plt.grid()"
   ]
  },
  {
   "cell_type": "code",
   "execution_count": 10,
   "metadata": {},
   "outputs": [],
   "source": [
    "# INFO: SCORE GRAPHIC (ACCURACY)"
   ]
  },
  {
   "cell_type": "code",
   "execution_count": 11,
   "metadata": {},
   "outputs": [
    {
     "data": {
      "image/png": "[encoded data removed]",
      "text/plain": [
       "<Figure size 432x288 with 1 Axes>"
      ]
     },
     "metadata": {
      "needs_background": "light"
     },
     "output_type": "display_data"
    }
   ],
   "source": [
    "score_graphic(k_range, scores_accuracy.values(), \"Testing Accuracy\")"
   ]
  },
  {
   "cell_type": "code",
   "execution_count": 12,
   "metadata": {},
   "outputs": [],
   "source": [
    "# INFO: CONFUSION MATRIX\n",
    "# -- necessário para analisar os dados desbalanceados\n",
    "# -- extrair as metricas de avaliação"
   ]
  },
  {
   "cell_type": "code",
   "execution_count": 13,
   "metadata": {},
   "outputs": [],
   "source": [
    "def plot_confusion_matrix(values_true, values_predict):\n",
    "    cm = metrics.confusion_matrix(values_true, values_predict)\n",
    "    plt.imshow(cm, interpolation='nearest', cmap=plt.cm.Blues)\n",
    "    plt.title(\"Confusion Matrix\")\n",
    "    plt.colorbar()\n",
    "    tick_marks = np.arange(2)\n",
    "    plt.xticks(tick_marks, [\"False\", \"True\"])\n",
    "    plt.yticks(tick_marks, [\"False\", \"True\"])\n",
    "    plt.ylabel('Value true')\n",
    "    plt.xlabel('Value predict')"
   ]
  },
  {
   "cell_type": "code",
   "execution_count": 14,
   "metadata": {},
   "outputs": [],
   "source": [
    "# INFO: CONFUSION MATRIX (BEST RESULT)\n",
    "# -- função para plotar a matriz de confusão que teve melhor média de score"
   ]
  },
  {
   "cell_type": "code",
   "execution_count": 15,
   "metadata": {},
   "outputs": [],
   "source": [
    "def best_confusion_matrix(scores, confusion_matrix_values):\n",
    "    INDEX_VALUES_TRUE = 0\n",
    "    INDEX_VALUES_PREDICT = 1\n",
    "    \n",
    "    key_max_score = max(scores, key=scores.get)\n",
    "    \n",
    "    values_true = confusion_matrix_values[key_max_score][INDEX_VALUES_TRUE]\n",
    "    values_predict = confusion_matrix_values[key_max_score][INDEX_VALUES_PREDICT]\n",
    "    \n",
    "    plot_confusion_matrix(values_true, values_predict)\n",
    "    print(\"------------------------------------\")\n",
    "    print(metrics.confusion_matrix(values_true, values_predict))\n",
    "    print(\"------------------------------------\")\n",
    "    tn, fp, fn, tp = metrics.confusion_matrix(values_true, values_predict).ravel()\n",
    "    \n",
    "    print(\"TN: \" + str(tn))\n",
    "    print(\"FP: \" + str(fp))\n",
    "    print(\"FN: \" + str(fn))\n",
    "    print(\"TP: \" + str(tp))\n",
    "    print(\"------------------------------------\")"
   ]
  },
  {
   "cell_type": "code",
   "execution_count": 16,
   "metadata": {},
   "outputs": [],
   "source": [
    "# INFO: CONFUSION MATRIX (BEST RESULT - ACCURACY)"
   ]
  },
  {
   "cell_type": "code",
   "execution_count": 17,
   "metadata": {},
   "outputs": [
    {
     "name": "stdout",
     "output_type": "stream",
     "text": [
      "------------------------------------\n",
      "[[476  16]\n",
      " [ 55 437]]\n",
      "------------------------------------\n",
      "TN: 476\n",
      "FP: 16\n",
      "FN: 55\n",
      "TP: 437\n",
      "------------------------------------\n"
     ]
    },
    {
     "data": {
      "image/png": "[encoded data removed]",
      "text/plain": [
       "<Figure size 432x288 with 2 Axes>"
      ]
     },
     "metadata": {
      "needs_background": "light"
     },
     "output_type": "display_data"
    }
   ],
   "source": [
    "best_confusion_matrix(scores_accuracy, confusion_matrix_values)"
   ]
  },
  {
   "cell_type": "code",
   "execution_count": 18,
   "metadata": {},
   "outputs": [],
   "source": [
    "# INFO: SCORE GRAPHIC (F1-SCORE)"
   ]
  },
  {
   "cell_type": "code",
   "execution_count": 19,
   "metadata": {},
   "outputs": [
    {
     "data": {
      "image/png": "[encoded data removed]",
      "text/plain": [
       "<Figure size 432x288 with 1 Axes>"
      ]
     },
     "metadata": {
      "needs_background": "light"
     },
     "output_type": "display_data"
    }
   ],
   "source": [
    "score_graphic(k_range, scores_f1_score.values(), \"Testing F1-Score\")"
   ]
  },
  {
   "cell_type": "code",
   "execution_count": 20,
   "metadata": {},
   "outputs": [],
   "source": [
    "# INFO: CONFUSION MATRIX (BEST RESULT - F1-SCORE)"
   ]
  },
  {
   "cell_type": "code",
   "execution_count": 21,
   "metadata": {},
   "outputs": [
    {
     "name": "stdout",
     "output_type": "stream",
     "text": [
      "------------------------------------\n",
      "[[476  16]\n",
      " [ 55 437]]\n",
      "------------------------------------\n",
      "TN: 476\n",
      "FP: 16\n",
      "FN: 55\n",
      "TP: 437\n",
      "------------------------------------\n"
     ]
    },
    {
     "data": {
      "image/png": "[encoded data removed]",
      "text/plain": [
       "<Figure size 432x288 with 2 Axes>"
      ]
     },
     "metadata": {
      "needs_background": "light"
     },
     "output_type": "display_data"
    }
   ],
   "source": [
    "best_confusion_matrix(scores_f1_score, confusion_matrix_values)"
   ]
  }
 ],
 "metadata": {
  "kernelspec": {
   "display_name": "Python 3",
   "language": "python",
   "name": "python3"
  },
  "language_info": {
   "codemirror_mode": {
    "name": "ipython",
    "version": 3
   },
   "file_extension": ".py",
   "mimetype": "text/x-python",
   "name": "python",
   "nbconvert_exporter": "python",
   "pygments_lexer": "ipython3",
   "version": "3.7.0"
  }
 },
 "nbformat": 4,
 "nbformat_minor": 2
}
